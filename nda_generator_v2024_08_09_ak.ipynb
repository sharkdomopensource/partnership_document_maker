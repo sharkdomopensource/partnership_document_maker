{
  "cells": [
    {
      "cell_type": "code",
      "execution_count": 5,
      "metadata": {
        "colab": {
          "base_uri": "https://localhost:8080/"
        },
        "collapsed": true,
        "id": "cP0eWnE0fa1Y",
        "outputId": "966f5869-dfbd-4c9a-b5fb-38a68e8764fd"
      },
      "outputs": [
        {
          "name": "stdout",
          "output_type": "stream",
          "text": [
            "Requirement already satisfied: fpdf in /usr/local/lib/python3.10/dist-packages (1.7.2)\n",
            "Requirement already satisfied: python-docx in /usr/local/lib/python3.10/dist-packages (1.1.2)\n",
            "Requirement already satisfied: lxml>=3.1.0 in /usr/local/lib/python3.10/dist-packages (from python-docx) (4.9.4)\n",
            "Requirement already satisfied: typing-extensions>=4.9.0 in /usr/local/lib/python3.10/dist-packages (from python-docx) (4.12.2)\n",
            "Requirement already satisfied: groq in /usr/local/lib/python3.10/dist-packages (0.9.0)\n",
            "Requirement already satisfied: anyio<5,>=3.5.0 in /usr/local/lib/python3.10/dist-packages (from groq) (3.7.1)\n",
            "Requirement already satisfied: distro<2,>=1.7.0 in /usr/lib/python3/dist-packages (from groq) (1.7.0)\n",
            "Requirement already satisfied: httpx<1,>=0.23.0 in /usr/local/lib/python3.10/dist-packages (from groq) (0.27.0)\n",
            "Requirement already satisfied: pydantic<3,>=1.9.0 in /usr/local/lib/python3.10/dist-packages (from groq) (2.8.2)\n",
            "Requirement already satisfied: sniffio in /usr/local/lib/python3.10/dist-packages (from groq) (1.3.1)\n",
            "Requirement already satisfied: typing-extensions<5,>=4.7 in /usr/local/lib/python3.10/dist-packages (from groq) (4.12.2)\n",
            "Requirement already satisfied: idna>=2.8 in /usr/local/lib/python3.10/dist-packages (from anyio<5,>=3.5.0->groq) (3.7)\n",
            "Requirement already satisfied: exceptiongroup in /usr/local/lib/python3.10/dist-packages (from anyio<5,>=3.5.0->groq) (1.2.2)\n",
            "Requirement already satisfied: certifi in /usr/local/lib/python3.10/dist-packages (from httpx<1,>=0.23.0->groq) (2024.7.4)\n",
            "Requirement already satisfied: httpcore==1.* in /usr/local/lib/python3.10/dist-packages (from httpx<1,>=0.23.0->groq) (1.0.5)\n",
            "Requirement already satisfied: h11<0.15,>=0.13 in /usr/local/lib/python3.10/dist-packages (from httpcore==1.*->httpx<1,>=0.23.0->groq) (0.14.0)\n",
            "Requirement already satisfied: annotated-types>=0.4.0 in /usr/local/lib/python3.10/dist-packages (from pydantic<3,>=1.9.0->groq) (0.7.0)\n",
            "Requirement already satisfied: pydantic-core==2.20.1 in /usr/local/lib/python3.10/dist-packages (from pydantic<3,>=1.9.0->groq) (2.20.1)\n"
          ]
        }
      ],
      "source": [
        "!pip install fpdf\n",
        "!pip install python-docx\n",
        "!pip install groq"
      ]
    },
    {
      "cell_type": "code",
      "execution_count": 7,
      "metadata": {
        "colab": {
          "base_uri": "https://localhost:8080/"
        },
        "id": "3e_R7qS0fd8X",
        "outputId": "72af0667-65de-4194-ad5f-597a11c7d9ae"
      },
      "outputs": [
        {
          "name": "stdout",
          "output_type": "stream",
          "text": [
            "NDA document has been created and saved as 'NDA_Document.docx'\n"
          ]
        }
      ],
      "source": [
        "from docx import Document\n",
        "from groq import Groq\n",
        "\n",
        "import os\n",
        "model_name = \"llama3-8b-8192\"\n",
        "api_key = \"\"\n",
        "def generate_section_content(prompt):\n",
        "\n",
        "    client = Groq(\n",
        "        api_key=api_key,\n",
        "    )\n",
        "\n",
        "    chat_completion = client.chat.completions.create(\n",
        "        messages=[\n",
        "            {\n",
        "                \"role\": \"user\",\n",
        "                \"content\": prompt\n",
        ",\n",
        "            }\n",
        "        ],\n",
        "        model=model_name,\n",
        "    )\n",
        "\n",
        "    return chat_completion.choices[0].message.content\n",
        "\n",
        "def recitals():\n",
        "    prompt = \"Generate content for the 'Recitals' section of a Non-disclosure Agreement.\"\n",
        "    return generate_section_content(prompt)\n",
        "\n",
        "def purpose():\n",
        "    prompt = \"Generate content for the 'Purpose' section of a Non-disclosure Agreement.\"\n",
        "    return generate_section_content(prompt)\n",
        "\n",
        "def definitions():\n",
        "    prompt = \"Generate content for the 'Definitions' section of a Non-disclosure Agreement.\"\n",
        "    return generate_section_content(prompt)\n",
        "\n",
        "def disclosure_of_confidential_information():\n",
        "    prompt = \"Generate content for the 'Disclosure of Confidential Information' section of a Non-disclosure Agreement.\"\n",
        "    return generate_section_content(prompt)\n",
        "\n",
        "def limitations_of_use_of_confidential_information():\n",
        "    prompt = \"Generate content for the 'Limitations of Use of Confidential Information' section of a Non-disclosure Agreement.\"\n",
        "    return generate_section_content(prompt)\n",
        "\n",
        "def standard_of_care():\n",
        "    prompt = \"Generate content for the 'Standard of Care' section of a Non-disclosure Agreement.\"\n",
        "    return generate_section_content(prompt)\n",
        "\n",
        "def disclosure_required_by_law_and_other_exceptions():\n",
        "    prompt = \"Generate content for the 'Disclosure Required by Law and Other Exceptions' section of a Non-disclosure Agreement.\"\n",
        "    return generate_section_content(prompt)\n",
        "\n",
        "def contact_persons():\n",
        "    prompt = \"Generate content for the 'Contact Persons' section of a Non-disclosure Agreement.\"\n",
        "    return generate_section_content(prompt)\n",
        "\n",
        "def term_and_termination():\n",
        "    prompt = \"Generate content for the 'Term and Termination' section of a Non-disclosure Agreement.\"\n",
        "    return generate_section_content(prompt)\n",
        "\n",
        "def return_of_confidential_information():\n",
        "    prompt = \"Generate content for the 'Return of Confidential Information' section of a Non-disclosure Agreement.\"\n",
        "    return generate_section_content(prompt)\n",
        "\n",
        "def warranty():\n",
        "    prompt = \"Generate content for the 'Warranty' section of a Non-disclosure Agreement.\"\n",
        "    return generate_section_content(prompt)\n",
        "\n",
        "def breach():\n",
        "    prompt = \"Generate content for the 'Breach' section of a Non-disclosure Agreement.\"\n",
        "    return generate_section_content(prompt)\n",
        "\n",
        "def applicable_law_consent_to_jurisdiction():\n",
        "    prompt = \"Generate content for the 'Applicable Law; Consent to Jurisdiction' section of a Non-disclosure Agreement.\"\n",
        "    return generate_section_content(prompt)\n",
        "\n",
        "def dispute_resolution():\n",
        "    prompt = \"Generate content for the 'Dispute Resolution' section of a Non-disclosure Agreement.\"\n",
        "    return generate_section_content(prompt)\n",
        "\n",
        "def miscellaneous():\n",
        "    prompt = \"Generate content for the 'Miscellaneous' section of a Non-disclosure Agreement.\"\n",
        "    return generate_section_content(prompt)\n",
        "\n",
        "def signature_of_both_parties():\n",
        "    prompt = \"Generate content for the 'Signature of Both Parties' section of a Non-disclosure Agreement.\"\n",
        "    return generate_section_content(prompt)\n",
        "\n",
        "def create_nda_document():\n",
        "    doc = Document()\n",
        "    doc.add_heading('Non-disclosure Agreement', level=1)\n",
        "\n",
        "    # Add sections to the document\n",
        "    sections = [\n",
        "        (\"Recitals\", recitals),\n",
        "        (\"Purpose\", purpose),\n",
        "        (\"Definitions\", definitions),\n",
        "        (\"Disclosure of Confidential Information\", disclosure_of_confidential_information),\n",
        "        (\"Limitations of Use of Confidential Information\", limitations_of_use_of_confidential_information),\n",
        "        (\"Standard of Care\", standard_of_care),\n",
        "        (\"Disclosure Required by Law and Other Exceptions\", disclosure_required_by_law_and_other_exceptions),\n",
        "        (\"Contact Persons\", contact_persons),\n",
        "        (\"Term and Termination\", term_and_termination),\n",
        "        (\"Return of Confidential Information\", return_of_confidential_information),\n",
        "        (\"Warranty\", warranty),\n",
        "        (\"Breach\", breach),\n",
        "        (\"Applicable Law; Consent to Jurisdiction\", applicable_law_consent_to_jurisdiction),\n",
        "        (\"Dispute Resolution\", dispute_resolution),\n",
        "        (\"Miscellaneous\", miscellaneous),\n",
        "        (\"Signature of Both Parties\", signature_of_both_parties)\n",
        "    ]\n",
        "\n",
        "    for title, section_func in sections:\n",
        "        doc.add_heading(title, level=2)\n",
        "        content = section_func()\n",
        "        doc.add_paragraph(content)\n",
        "\n",
        "    doc.save('NDA_Document.docx')\n",
        "    print(\"NDA document has been created and saved as 'NDA_Document.docx'\")\n",
        "\n",
        "# Run the function to create the document\n",
        "create_nda_document()\n"
      ]
    },
    {
      "cell_type": "code",
      "execution_count": null,
      "metadata": {
        "id": "bHaikQFkfmld"
      },
      "outputs": [],
      "source": []
    }
  ],
  "metadata": {
    "colab": {
      "provenance": []
    },
    "kernelspec": {
      "display_name": "Python 3",
      "name": "python3"
    },
    "language_info": {
      "name": "python"
    }
  },
  "nbformat": 4,
  "nbformat_minor": 0
}
